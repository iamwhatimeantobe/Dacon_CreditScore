{
 "cells": [
  {
   "cell_type": "markdown",
   "metadata": {},
   "source": [
    "### 고객 대출등급 예측 AI 알고리즘 개발"
   ]
  },
  {
   "cell_type": "code",
   "execution_count": 30,
   "metadata": {},
   "outputs": [],
   "source": [
    "import pandas as pd\n",
    "import numpy as np\n",
    "import warnings\n",
    "warnings.filterwarnings('ignore')\n",
    "\n",
    "test_df = pd.read_csv(\"C:/Users/sori4/Downloads/(자체) 고객 대출등급 분류 해커톤/data/test.csv\")\n",
    "train_df = pd.read_csv(\"C:/Users/sori4/Downloads/(자체) 고객 대출등급 분류 해커톤/data/train.csv\")"
   ]
  },
  {
   "cell_type": "code",
   "execution_count": 19,
   "metadata": {},
   "outputs": [
    {
     "data": {
      "text/html": [
       "<div>\n",
       "<style scoped>\n",
       "    .dataframe tbody tr th:only-of-type {\n",
       "        vertical-align: middle;\n",
       "    }\n",
       "\n",
       "    .dataframe tbody tr th {\n",
       "        vertical-align: top;\n",
       "    }\n",
       "\n",
       "    .dataframe thead th {\n",
       "        text-align: right;\n",
       "    }\n",
       "</style>\n",
       "<table border=\"1\" class=\"dataframe\">\n",
       "  <thead>\n",
       "    <tr style=\"text-align: right;\">\n",
       "      <th></th>\n",
       "      <th>대출금액</th>\n",
       "      <th>대출기간</th>\n",
       "      <th>근로기간</th>\n",
       "      <th>주택소유상태</th>\n",
       "      <th>연간소득</th>\n",
       "      <th>부채_대비_소득_비율</th>\n",
       "      <th>총계좌수</th>\n",
       "      <th>대출목적</th>\n",
       "      <th>최근_2년간_연체_횟수</th>\n",
       "      <th>총상환원금</th>\n",
       "      <th>총상환이자</th>\n",
       "      <th>총연체금액</th>\n",
       "      <th>연체계좌수</th>\n",
       "    </tr>\n",
       "  </thead>\n",
       "  <tbody>\n",
       "    <tr>\n",
       "      <th>0</th>\n",
       "      <td>12480000</td>\n",
       "      <td>1</td>\n",
       "      <td>6.0</td>\n",
       "      <td>RENT</td>\n",
       "      <td>72000000</td>\n",
       "      <td>18.90</td>\n",
       "      <td>15</td>\n",
       "      <td>부채 통합</td>\n",
       "      <td>0</td>\n",
       "      <td>0</td>\n",
       "      <td>0.0</td>\n",
       "      <td>0.0</td>\n",
       "      <td>0.0</td>\n",
       "    </tr>\n",
       "    <tr>\n",
       "      <th>1</th>\n",
       "      <td>14400000</td>\n",
       "      <td>2</td>\n",
       "      <td>NaN</td>\n",
       "      <td>MORTGAGE</td>\n",
       "      <td>130800000</td>\n",
       "      <td>22.33</td>\n",
       "      <td>21</td>\n",
       "      <td>주택 개선</td>\n",
       "      <td>0</td>\n",
       "      <td>373572</td>\n",
       "      <td>234060.0</td>\n",
       "      <td>0.0</td>\n",
       "      <td>0.0</td>\n",
       "    </tr>\n",
       "    <tr>\n",
       "      <th>2</th>\n",
       "      <td>12000000</td>\n",
       "      <td>1</td>\n",
       "      <td>5.0</td>\n",
       "      <td>MORTGAGE</td>\n",
       "      <td>96000000</td>\n",
       "      <td>8.60</td>\n",
       "      <td>14</td>\n",
       "      <td>부채 통합</td>\n",
       "      <td>0</td>\n",
       "      <td>928644</td>\n",
       "      <td>151944.0</td>\n",
       "      <td>0.0</td>\n",
       "      <td>0.0</td>\n",
       "    </tr>\n",
       "    <tr>\n",
       "      <th>3</th>\n",
       "      <td>14400000</td>\n",
       "      <td>1</td>\n",
       "      <td>8.0</td>\n",
       "      <td>MORTGAGE</td>\n",
       "      <td>132000000</td>\n",
       "      <td>15.09</td>\n",
       "      <td>15</td>\n",
       "      <td>부채 통합</td>\n",
       "      <td>0</td>\n",
       "      <td>325824</td>\n",
       "      <td>153108.0</td>\n",
       "      <td>0.0</td>\n",
       "      <td>0.0</td>\n",
       "    </tr>\n",
       "    <tr>\n",
       "      <th>4</th>\n",
       "      <td>18000000</td>\n",
       "      <td>2</td>\n",
       "      <td>NaN</td>\n",
       "      <td>RENT</td>\n",
       "      <td>71736000</td>\n",
       "      <td>25.39</td>\n",
       "      <td>19</td>\n",
       "      <td>주요 구매</td>\n",
       "      <td>0</td>\n",
       "      <td>228540</td>\n",
       "      <td>148956.0</td>\n",
       "      <td>0.0</td>\n",
       "      <td>0.0</td>\n",
       "    </tr>\n",
       "    <tr>\n",
       "      <th>...</th>\n",
       "      <td>...</td>\n",
       "      <td>...</td>\n",
       "      <td>...</td>\n",
       "      <td>...</td>\n",
       "      <td>...</td>\n",
       "      <td>...</td>\n",
       "      <td>...</td>\n",
       "      <td>...</td>\n",
       "      <td>...</td>\n",
       "      <td>...</td>\n",
       "      <td>...</td>\n",
       "      <td>...</td>\n",
       "      <td>...</td>\n",
       "    </tr>\n",
       "    <tr>\n",
       "      <th>96289</th>\n",
       "      <td>14400000</td>\n",
       "      <td>1</td>\n",
       "      <td>NaN</td>\n",
       "      <td>MORTGAGE</td>\n",
       "      <td>210000000</td>\n",
       "      <td>9.33</td>\n",
       "      <td>33</td>\n",
       "      <td>신용 카드</td>\n",
       "      <td>0</td>\n",
       "      <td>974580</td>\n",
       "      <td>492168.0</td>\n",
       "      <td>0.0</td>\n",
       "      <td>0.0</td>\n",
       "    </tr>\n",
       "    <tr>\n",
       "      <th>96290</th>\n",
       "      <td>28800000</td>\n",
       "      <td>2</td>\n",
       "      <td>NaN</td>\n",
       "      <td>MORTGAGE</td>\n",
       "      <td>132000000</td>\n",
       "      <td>5.16</td>\n",
       "      <td>25</td>\n",
       "      <td>주택 개선</td>\n",
       "      <td>0</td>\n",
       "      <td>583728</td>\n",
       "      <td>855084.0</td>\n",
       "      <td>0.0</td>\n",
       "      <td>0.0</td>\n",
       "    </tr>\n",
       "    <tr>\n",
       "      <th>96291</th>\n",
       "      <td>14400000</td>\n",
       "      <td>1</td>\n",
       "      <td>1.0</td>\n",
       "      <td>MORTGAGE</td>\n",
       "      <td>84000000</td>\n",
       "      <td>11.24</td>\n",
       "      <td>22</td>\n",
       "      <td>신용 카드</td>\n",
       "      <td>0</td>\n",
       "      <td>1489128</td>\n",
       "      <td>241236.0</td>\n",
       "      <td>0.0</td>\n",
       "      <td>0.0</td>\n",
       "    </tr>\n",
       "    <tr>\n",
       "      <th>96292</th>\n",
       "      <td>15600000</td>\n",
       "      <td>1</td>\n",
       "      <td>5.0</td>\n",
       "      <td>MORTGAGE</td>\n",
       "      <td>66330000</td>\n",
       "      <td>17.30</td>\n",
       "      <td>21</td>\n",
       "      <td>부채 통합</td>\n",
       "      <td>2</td>\n",
       "      <td>1378368</td>\n",
       "      <td>818076.0</td>\n",
       "      <td>0.0</td>\n",
       "      <td>0.0</td>\n",
       "    </tr>\n",
       "    <tr>\n",
       "      <th>96293</th>\n",
       "      <td>8640000</td>\n",
       "      <td>1</td>\n",
       "      <td>NaN</td>\n",
       "      <td>RENT</td>\n",
       "      <td>50400000</td>\n",
       "      <td>11.80</td>\n",
       "      <td>14</td>\n",
       "      <td>신용 카드</td>\n",
       "      <td>0</td>\n",
       "      <td>596148</td>\n",
       "      <td>274956.0</td>\n",
       "      <td>0.0</td>\n",
       "      <td>0.0</td>\n",
       "    </tr>\n",
       "  </tbody>\n",
       "</table>\n",
       "<p>96294 rows × 13 columns</p>\n",
       "</div>"
      ],
      "text/plain": [
       "           대출금액  대출기간  근로기간    주택소유상태       연간소득  부채_대비_소득_비율  총계좌수   대출목적  \\\n",
       "0      12480000     1   6.0      RENT   72000000        18.90    15  부채 통합   \n",
       "1      14400000     2   NaN  MORTGAGE  130800000        22.33    21  주택 개선   \n",
       "2      12000000     1   5.0  MORTGAGE   96000000         8.60    14  부채 통합   \n",
       "3      14400000     1   8.0  MORTGAGE  132000000        15.09    15  부채 통합   \n",
       "4      18000000     2   NaN      RENT   71736000        25.39    19  주요 구매   \n",
       "...         ...   ...   ...       ...        ...          ...   ...    ...   \n",
       "96289  14400000     1   NaN  MORTGAGE  210000000         9.33    33  신용 카드   \n",
       "96290  28800000     2   NaN  MORTGAGE  132000000         5.16    25  주택 개선   \n",
       "96291  14400000     1   1.0  MORTGAGE   84000000        11.24    22  신용 카드   \n",
       "96292  15600000     1   5.0  MORTGAGE   66330000        17.30    21  부채 통합   \n",
       "96293   8640000     1   NaN      RENT   50400000        11.80    14  신용 카드   \n",
       "\n",
       "       최근_2년간_연체_횟수    총상환원금     총상환이자  총연체금액  연체계좌수  \n",
       "0                 0        0       0.0    0.0    0.0  \n",
       "1                 0   373572  234060.0    0.0    0.0  \n",
       "2                 0   928644  151944.0    0.0    0.0  \n",
       "3                 0   325824  153108.0    0.0    0.0  \n",
       "4                 0   228540  148956.0    0.0    0.0  \n",
       "...             ...      ...       ...    ...    ...  \n",
       "96289             0   974580  492168.0    0.0    0.0  \n",
       "96290             0   583728  855084.0    0.0    0.0  \n",
       "96291             0  1489128  241236.0    0.0    0.0  \n",
       "96292             2  1378368  818076.0    0.0    0.0  \n",
       "96293             0   596148  274956.0    0.0    0.0  \n",
       "\n",
       "[96294 rows x 13 columns]"
      ]
     },
     "execution_count": 19,
     "metadata": {},
     "output_type": "execute_result"
    }
   ],
   "source": [
    "train_df"
   ]
  },
  {
   "cell_type": "markdown",
   "metadata": {},
   "source": [
    "### EDA"
   ]
  },
  {
   "cell_type": "code",
   "execution_count": 2,
   "metadata": {},
   "outputs": [
    {
     "data": {
      "text/plain": [
       "((96294, 15), (64197, 14))"
      ]
     },
     "execution_count": 2,
     "metadata": {},
     "output_type": "execute_result"
    }
   ],
   "source": [
    "train_df.shape, test_df.shape #'대출등급' columns 예측"
   ]
  },
  {
   "cell_type": "code",
   "execution_count": 3,
   "metadata": {},
   "outputs": [],
   "source": [
    "drop_col = ['ID']\n",
    "int_col = ['대출금액', '연간소득', '부채_대비_소득_비율', '총계좌수', '최근_2년간_연체_횟수', '총상환원금', '총상환이자', '총연체금액', '연체계좌수']\n",
    "#다른 변경 필요 : '대출기간', '근로기간'\n",
    "str_col = ['주택소유상태', '대출목적']\n",
    "y_col = ['대출등급']"
   ]
  },
  {
   "cell_type": "code",
   "execution_count": 4,
   "metadata": {},
   "outputs": [
    {
     "data": {
      "text/plain": [
       "array(['부채 통합', '주택 개선', '주요 구매', '휴가', '의료', '자동차', '신용 카드', '소규모 사업',\n",
       "       '기타', '이사', '주택', '재생 에너지'], dtype=object)"
      ]
     },
     "execution_count": 4,
     "metadata": {},
     "output_type": "execute_result"
    }
   ],
   "source": [
    "train_df['대출기간'].unique() #[' 36 months', ' 60 months']\n",
    "train_df['근로기간'].unique() # <1 < 1 이있고 10+ 10 +가 있어서 합치는 게 필요함\n",
    "train_df['주택소유상태'].unique() #['RENT', 'MORTGAGE', 'OWN', 'ANY']\n",
    "train_df['대출목적'].unique() # ['부채 통합', '주택 개선', '주요 구매', '휴가', '의료', '자동차', '신용 카드', '소규모 사업', '기타', '이사', '주택', '재생 에너지']"
   ]
  },
  {
   "cell_type": "code",
   "execution_count": 5,
   "metadata": {},
   "outputs": [
    {
     "data": {
      "text/plain": [
       "<Axes: ylabel='총연체금액'>"
      ]
     },
     "execution_count": 5,
     "metadata": {},
     "output_type": "execute_result"
    },
    {
     "data": {
      "image/png": "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",
      "text/plain": [
       "<Figure size 1800x800 with 8 Axes>"
      ]
     },
     "metadata": {},
     "output_type": "display_data"
    }
   ],
   "source": [
    "#이상치 체크\n",
    "import matplotlib.pyplot as plt\n",
    "from matplotlib import font_manager, rc\n",
    "import seaborn as sns\n",
    "\n",
    "f_path = 'C:\\Windows\\Fonts\\malgun.ttf'\n",
    "font_manager.FontProperties(fname=f_path).get_name()\n",
    "rc('font', family='Malgun Gothic')\n",
    "\n",
    "fig, axes = plt.subplots(2, 4, figsize = (18, 8))\n",
    "\n",
    "sns.boxplot(train_df['대출금액'], ax=axes[0, 0])\n",
    "sns.boxplot(train_df['연간소득'], ax=axes[0, 1])\n",
    "sns.boxplot(train_df['부채_대비_소득_비율'], ax=axes[0, 2])\n",
    "sns.boxplot(train_df['총계좌수'], ax=axes[0, 3])\n",
    "sns.boxplot(train_df['최근_2년간_연체_횟수'], ax=axes[1, 0])\n",
    "sns.boxplot(train_df['총상환원금'], ax=axes[1, 1])\n",
    "sns.boxplot(train_df['총상환이자'], ax=axes[1, 2])\n",
    "sns.boxplot(train_df['총연체금액'], ax=axes[1, 3])"
   ]
  },
  {
   "cell_type": "code",
   "execution_count": 6,
   "metadata": {},
   "outputs": [
    {
     "data": {
      "text/plain": [
       "<Axes: ylabel='연체계좌수'>"
      ]
     },
     "execution_count": 6,
     "metadata": {},
     "output_type": "execute_result"
    },
    {
     "data": {
      "image/png": "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",
      "text/plain": [
       "<Figure size 640x480 with 1 Axes>"
      ]
     },
     "metadata": {},
     "output_type": "display_data"
    }
   ],
   "source": [
    "sns.boxplot(train_df['연체계좌수'])"
   ]
  },
  {
   "cell_type": "markdown",
   "metadata": {},
   "source": [
    "### 전처리"
   ]
  },
  {
   "cell_type": "code",
   "execution_count": 31,
   "metadata": {},
   "outputs": [
    {
     "data": {
      "text/plain": [
       "array(['6 years', '10+ years', '5 years', '8 years', 'Unknown', '9 years',\n",
       "       '2 years', '1 year', '3 years', '7 years', '4 years', '< 1 year',\n",
       "       '10+years', '<1 year', '3', '1 years'], dtype=object)"
      ]
     },
     "execution_count": 31,
     "metadata": {},
     "output_type": "execute_result"
    }
   ],
   "source": [
    "#범주형 인코딩\n",
    "train_df['근로기간'].unique()\n",
    "# #'< 1' 전처리\n",
    "# test_df['근로기간'].unique()"
   ]
  },
  {
   "cell_type": "code",
   "execution_count": 32,
   "metadata": {},
   "outputs": [],
   "source": [
    "#예측할 값 분리\n",
    "y = train_df[y_col]\n",
    "train_df.drop(columns=y_col, inplace=True)"
   ]
  },
  {
   "cell_type": "code",
   "execution_count": 9,
   "metadata": {},
   "outputs": [
    {
     "data": {
      "text/plain": [
       "대출등급\n",
       "B       28817\n",
       "C       27623\n",
       "A       16772\n",
       "D       13354\n",
       "E        7354\n",
       "F        1954\n",
       "G         420\n",
       "dtype: int64"
      ]
     },
     "execution_count": 9,
     "metadata": {},
     "output_type": "execute_result"
    }
   ],
   "source": [
    "y.value_counts()"
   ]
  },
  {
   "cell_type": "code",
   "execution_count": 33,
   "metadata": {},
   "outputs": [],
   "source": [
    "#'대출기간', '근로기간' 전처리 함수 만들기\n",
    "def preprocessing_df(df):\n",
    "    #근로기간 전처리\n",
    "    df.loc[df['근로기간'] == '< 1 year', '근로기간'] = '<1 year'\n",
    "    df.loc[df['근로기간'] == '10+years', '근로기간'] = '10+ years'\n",
    "\n",
    "    df['근로기간'] = df['근로기간'].str.split(' ').apply(lambda x: x[0])\n",
    "    df['근로기간'] = pd.to_numeric(df['근로기간'], errors='coerce') #Unknown을 Nan으로 변경\n",
    "    df.loc[df['근로기간'] == '<1', '근로기간'] = '0'\n",
    "    df.loc[df['근로기간'] == '10+', '근로기간'] = '10'\n",
    "\n",
    "    df['근로기간'] = df['근로기간'].astype('float')\n",
    "\n",
    "    #대출기간 전처리\n",
    "    df['대출기간'] = df['대출기간'].apply(lambda row: 1 if row == ' 36 months' else 2)\n",
    "\n",
    "    #불필요한 열 삭제\n",
    "    df.drop(columns = drop_col, inplace=True)\n",
    "\n",
    "    return df\n"
   ]
  },
  {
   "cell_type": "code",
   "execution_count": 34,
   "metadata": {},
   "outputs": [],
   "source": [
    "#대출기간, 근로기간 전처리 진행\n",
    "train_df_scaled = preprocessing_df(train_df)\n",
    "test_df_scaled = preprocessing_df(test_df)"
   ]
  },
  {
   "cell_type": "code",
   "execution_count": 24,
   "metadata": {},
   "outputs": [
    {
     "data": {
      "text/plain": [
       "2.0    8450\n",
       "3.0    7670\n",
       "1.0    6305\n",
       "5.0    5665\n",
       "4.0    5588\n",
       "8.0    4888\n",
       "6.0    3874\n",
       "7.0    3814\n",
       "9.0    3744\n",
       "Name: 근로기간, dtype: int64"
      ]
     },
     "execution_count": 24,
     "metadata": {},
     "output_type": "execute_result"
    }
   ],
   "source": [
    "train_df['근로기간'].value_counts()"
   ]
  },
  {
   "cell_type": "markdown",
   "metadata": {},
   "source": [
    "### 추가 EDA"
   ]
  },
  {
   "cell_type": "code",
   "execution_count": 12,
   "metadata": {},
   "outputs": [
    {
     "data": {
      "text/plain": [
       "대출금액            0.000000\n",
       "대출기간            0.000000\n",
       "근로기간            0.480778\n",
       "주택소유상태          0.000000\n",
       "연간소득            0.000000\n",
       "부채_대비_소득_비율     0.000000\n",
       "총계좌수            0.000000\n",
       "대출목적            0.000000\n",
       "최근_2년간_연체_횟수    0.000000\n",
       "총상환원금           0.000000\n",
       "총상환이자           0.000000\n",
       "총연체금액           0.000000\n",
       "연체계좌수           0.000000\n",
       "dtype: float64"
      ]
     },
     "execution_count": 12,
     "metadata": {},
     "output_type": "execute_result"
    }
   ],
   "source": [
    "train_df_scaled.isna().sum() / len(train_df_scaled) #반절 정도 결측치 값"
   ]
  },
  {
   "cell_type": "code",
   "execution_count": 13,
   "metadata": {},
   "outputs": [
    {
     "data": {
      "text/plain": [
       "<Axes: ylabel='근로기간'>"
      ]
     },
     "execution_count": 13,
     "metadata": {},
     "output_type": "execute_result"
    },
    {
     "data": {
      "image/png": "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",
      "text/plain": [
       "<Figure size 640x480 with 2 Axes>"
      ]
     },
     "metadata": {},
     "output_type": "display_data"
    }
   ],
   "source": [
    "fig, axes = plt.subplots(1,2)\n",
    "sns.boxplot(train_df_scaled['근로기간'], ax=axes[0])\n",
    "sns.boxplot(test_df_scaled['근로기간'], ax=axes[1]) #이상치 여부 체크 : 이상치 별로 없음"
   ]
  },
  {
   "cell_type": "code",
   "execution_count": 14,
   "metadata": {},
   "outputs": [
    {
     "data": {
      "text/plain": [
       "<Axes: >"
      ]
     },
     "execution_count": 14,
     "metadata": {},
     "output_type": "execute_result"
    },
    {
     "data": {
      "image/png": "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",
      "text/plain": [
       "<Figure size 1000x800 with 2 Axes>"
      ]
     },
     "metadata": {},
     "output_type": "display_data"
    }
   ],
   "source": [
    "#상관관계 확인\n",
    "plt.figure(figsize=(10, 8))\n",
    "sns.heatmap(train_df_scaled.corr(), annot=True, cmap='coolwarm', vmin=-1, vmax=1) #큰 연관 없는 것으로 파악\n"
   ]
  },
  {
   "cell_type": "code",
   "execution_count": 15,
   "metadata": {},
   "outputs": [],
   "source": [
    "#결측치 채우기1 : 최빈값\n",
    "train_df_scaled_o = train_df_scaled.copy()\n",
    "test_df_scaled_o = test_df_scaled.copy()\n",
    "train_df_scaled_o['근로기간'].fillna(train_df_scaled['근로기간'].mode().iloc[0], inplace=True)\n",
    "test_df_scaled_o['근로기간'].fillna(train_df_scaled['근로기간'].mode().iloc[0], inplace=True)"
   ]
  },
  {
   "cell_type": "code",
   "execution_count": 16,
   "metadata": {},
   "outputs": [],
   "source": [
    "#결측치 채우기2 : 중앙값\n",
    "train_df_scaled_e = train_df_scaled.copy()\n",
    "test_df_scaled_e = test_df_scaled.copy()\n",
    "train_df_scaled_e['근로기간'].fillna(train_df_scaled['근로기간'].median(), inplace=True)\n",
    "test_df_scaled_e['근로기간'].fillna(train_df_scaled['근로기간'].median(), inplace=True)"
   ]
  },
  {
   "cell_type": "code",
   "execution_count": 17,
   "metadata": {},
   "outputs": [
    {
     "name": "stdout",
     "output_type": "stream",
     "text": [
      "0\n",
      "0\n",
      "0\n",
      "0\n"
     ]
    }
   ],
   "source": [
    "print(train_df_scaled_o['근로기간'].isnull().sum())\n",
    "print(test_df_scaled_o['근로기간'].isnull().sum())\n",
    "print(train_df_scaled_e['근로기간'].isnull().sum())\n",
    "print(test_df_scaled_e['근로기간'].isnull().sum())"
   ]
  },
  {
   "cell_type": "code",
   "execution_count": 26,
   "metadata": {},
   "outputs": [
    {
     "data": {
      "text/plain": [
       "0.0    95762\n",
       "1.0      507\n",
       "2.0       24\n",
       "4.0        1\n",
       "Name: 연체계좌수, dtype: int64"
      ]
     },
     "execution_count": 26,
     "metadata": {},
     "output_type": "execute_result"
    }
   ],
   "source": [
    "#불필요한 columns 삭제 OR 주성분 분석 진행\n",
    "# train_df['총연체금액'].value_counts() / len(train_df['총연체금액']) 99%가 0이므로 삭제, 하지만 필요한 정보가 아닐까 하는 생각\n",
    "# train_df['근로기간']도 결측치가 크고 결측치 채우지 않았을 때와 차이가 적으니 삭제\n",
    "# train_df['연체계좌수'].value_counts() 상관관계가 거의 없지만 등급 지정에 필요한 정보 아닐까?"
   ]
  },
  {
   "cell_type": "markdown",
   "metadata": {},
   "source": [
    "- 주성분 분석 진행"
   ]
  },
  {
   "cell_type": "code",
   "execution_count": 41,
   "metadata": {},
   "outputs": [
    {
     "data": {
      "text/plain": [
       "array([[-1.83915153, -0.94931568],\n",
       "       [-0.01116764,  1.14823727],\n",
       "       [-0.90242328, -0.05553671],\n",
       "       ...,\n",
       "       [-0.38636131,  0.47025799],\n",
       "       [ 0.37267553,  0.66269389],\n",
       "       [-1.63832907, -0.81623227]])"
      ]
     },
     "execution_count": 41,
     "metadata": {},
     "output_type": "execute_result"
    }
   ],
   "source": [
    "#PCA 분석\n",
    "from sklearn.decomposition import PCA\n",
    "from sklearn.preprocessing import StandardScaler\n",
    "\n",
    "scaler = StandardScaler()\n",
    "\n",
    "train_df_scaled2 = scaler.fit_transform(train_df_scaled_o2)\n",
    "\n",
    "pca = PCA(n_components=2)  # 주성분을 2개 선택\n",
    "X_pca = pca.fit_transform(train_df_scaled2)\n",
    "X_pca"
   ]
  },
  {
   "cell_type": "code",
   "execution_count": 45,
   "metadata": {},
   "outputs": [
    {
     "data": {
      "text/html": [
       "<div>\n",
       "<style scoped>\n",
       "    .dataframe tbody tr th:only-of-type {\n",
       "        vertical-align: middle;\n",
       "    }\n",
       "\n",
       "    .dataframe tbody tr th {\n",
       "        vertical-align: top;\n",
       "    }\n",
       "\n",
       "    .dataframe thead th {\n",
       "        text-align: right;\n",
       "    }\n",
       "</style>\n",
       "<table border=\"1\" class=\"dataframe\">\n",
       "  <thead>\n",
       "    <tr style=\"text-align: right;\">\n",
       "      <th></th>\n",
       "      <th>대출금액</th>\n",
       "      <th>대출기간</th>\n",
       "      <th>근로기간</th>\n",
       "      <th>주택소유상태</th>\n",
       "      <th>연간소득</th>\n",
       "      <th>부채_대비_소득_비율</th>\n",
       "      <th>총계좌수</th>\n",
       "      <th>대출목적</th>\n",
       "      <th>최근_2년간_연체_횟수</th>\n",
       "      <th>총상환원금</th>\n",
       "      <th>총상환이자</th>\n",
       "      <th>총연체금액</th>\n",
       "      <th>연체계좌수</th>\n",
       "    </tr>\n",
       "  </thead>\n",
       "  <tbody>\n",
       "    <tr>\n",
       "      <th>0</th>\n",
       "      <td>0.560595</td>\n",
       "      <td>0.34811</td>\n",
       "      <td>0.009754</td>\n",
       "      <td>-0.205026</td>\n",
       "      <td>0.249324</td>\n",
       "      <td>0.015376</td>\n",
       "      <td>0.244416</td>\n",
       "      <td>-0.031562</td>\n",
       "      <td>0.027719</td>\n",
       "      <td>0.346296</td>\n",
       "      <td>0.526580</td>\n",
       "      <td>0.032418</td>\n",
       "      <td>0.016174</td>\n",
       "    </tr>\n",
       "    <tr>\n",
       "      <th>1</th>\n",
       "      <td>-0.100684</td>\n",
       "      <td>-0.17744</td>\n",
       "      <td>-0.079627</td>\n",
       "      <td>-0.461825</td>\n",
       "      <td>0.291882</td>\n",
       "      <td>-0.001593</td>\n",
       "      <td>0.432783</td>\n",
       "      <td>0.320744</td>\n",
       "      <td>0.457416</td>\n",
       "      <td>-0.095130</td>\n",
       "      <td>-0.241079</td>\n",
       "      <td>-0.049178</td>\n",
       "      <td>0.290796</td>\n",
       "    </tr>\n",
       "  </tbody>\n",
       "</table>\n",
       "</div>"
      ],
      "text/plain": [
       "       대출금액     대출기간      근로기간    주택소유상태      연간소득  부채_대비_소득_비율      총계좌수  \\\n",
       "0  0.560595  0.34811  0.009754 -0.205026  0.249324     0.015376  0.244416   \n",
       "1 -0.100684 -0.17744 -0.079627 -0.461825  0.291882    -0.001593  0.432783   \n",
       "\n",
       "       대출목적  최근_2년간_연체_횟수     총상환원금     총상환이자     총연체금액     연체계좌수  \n",
       "0 -0.031562      0.027719  0.346296  0.526580  0.032418  0.016174  \n",
       "1  0.320744      0.457416 -0.095130 -0.241079 -0.049178  0.290796  "
      ]
     },
     "execution_count": 45,
     "metadata": {},
     "output_type": "execute_result"
    }
   ],
   "source": [
    "components_df = pd.DataFrame(pca.components_,columns=train_df.columns)\n",
    "components_df"
   ]
  },
  {
   "cell_type": "code",
   "execution_count": 47,
   "metadata": {},
   "outputs": [
    {
     "data": {
      "text/plain": [
       "array([0.18042758, 0.09841529])"
      ]
     },
     "execution_count": 47,
     "metadata": {},
     "output_type": "execute_result"
    }
   ],
   "source": [
    "pca.explained_variance_ratio_"
   ]
  },
  {
   "cell_type": "code",
   "execution_count": 56,
   "metadata": {},
   "outputs": [
    {
     "data": {
      "text/plain": [
       "대출금액            0.560595\n",
       "총상환이자           0.526580\n",
       "대출기간            0.348110\n",
       "총상환원금           0.346296\n",
       "연간소득            0.249324\n",
       "총계좌수            0.244416\n",
       "주택소유상태          0.205026\n",
       "총연체금액           0.032418\n",
       "대출목적            0.031562\n",
       "최근_2년간_연체_횟수    0.027719\n",
       "연체계좌수           0.016174\n",
       "부채_대비_소득_비율     0.015376\n",
       "근로기간            0.009754\n",
       "Name: 0, dtype: float64"
      ]
     },
     "execution_count": 56,
     "metadata": {},
     "output_type": "execute_result"
    }
   ],
   "source": [
    "abs(components_df.iloc[0,:]).sort_values(ascending=False)"
   ]
  },
  {
   "cell_type": "code",
   "execution_count": 57,
   "metadata": {},
   "outputs": [
    {
     "data": {
      "text/plain": [
       "주택소유상태          0.461825\n",
       "최근_2년간_연체_횟수    0.457416\n",
       "총계좌수            0.432783\n",
       "대출목적            0.320744\n",
       "연간소득            0.291882\n",
       "연체계좌수           0.290796\n",
       "총상환이자           0.241079\n",
       "대출기간            0.177440\n",
       "대출금액            0.100684\n",
       "총상환원금           0.095130\n",
       "근로기간            0.079627\n",
       "총연체금액           0.049178\n",
       "부채_대비_소득_비율     0.001593\n",
       "Name: 1, dtype: float64"
      ]
     },
     "execution_count": 57,
     "metadata": {},
     "output_type": "execute_result"
    }
   ],
   "source": [
    "abs(components_df.iloc[1,:]).sort_values(ascending=False)"
   ]
  },
  {
   "cell_type": "markdown",
   "metadata": {},
   "source": [
    "- columns 값 삭제로 예측 높이기"
   ]
  },
  {
   "cell_type": "code",
   "execution_count": 63,
   "metadata": {},
   "outputs": [
    {
     "data": {
      "text/html": [
       "<div>\n",
       "<style scoped>\n",
       "    .dataframe tbody tr th:only-of-type {\n",
       "        vertical-align: middle;\n",
       "    }\n",
       "\n",
       "    .dataframe tbody tr th {\n",
       "        vertical-align: top;\n",
       "    }\n",
       "\n",
       "    .dataframe thead th {\n",
       "        text-align: right;\n",
       "    }\n",
       "</style>\n",
       "<table border=\"1\" class=\"dataframe\">\n",
       "  <thead>\n",
       "    <tr style=\"text-align: right;\">\n",
       "      <th></th>\n",
       "      <th>대출금액</th>\n",
       "      <th>대출기간</th>\n",
       "      <th>주택소유상태</th>\n",
       "      <th>연간소득</th>\n",
       "      <th>총계좌수</th>\n",
       "      <th>대출목적</th>\n",
       "      <th>최근_2년간_연체_횟수</th>\n",
       "      <th>총상환원금</th>\n",
       "      <th>총상환이자</th>\n",
       "      <th>총연체금액</th>\n",
       "      <th>연체계좌수</th>\n",
       "    </tr>\n",
       "  </thead>\n",
       "  <tbody>\n",
       "    <tr>\n",
       "      <th>0</th>\n",
       "      <td>16800000</td>\n",
       "      <td>1</td>\n",
       "      <td>MORTGAGE</td>\n",
       "      <td>132000000</td>\n",
       "      <td>12</td>\n",
       "      <td>주택 개선</td>\n",
       "      <td>0</td>\n",
       "      <td>394692</td>\n",
       "      <td>146604.0</td>\n",
       "      <td>0.0</td>\n",
       "      <td>0.0</td>\n",
       "    </tr>\n",
       "    <tr>\n",
       "      <th>1</th>\n",
       "      <td>8400000</td>\n",
       "      <td>1</td>\n",
       "      <td>RENT</td>\n",
       "      <td>89971200</td>\n",
       "      <td>25</td>\n",
       "      <td>부채 통합</td>\n",
       "      <td>0</td>\n",
       "      <td>0</td>\n",
       "      <td>0.0</td>\n",
       "      <td>0.0</td>\n",
       "      <td>0.0</td>\n",
       "    </tr>\n",
       "    <tr>\n",
       "      <th>2</th>\n",
       "      <td>17280000</td>\n",
       "      <td>1</td>\n",
       "      <td>RENT</td>\n",
       "      <td>150000000</td>\n",
       "      <td>20</td>\n",
       "      <td>신용 카드</td>\n",
       "      <td>0</td>\n",
       "      <td>1786980</td>\n",
       "      <td>281820.0</td>\n",
       "      <td>0.0</td>\n",
       "      <td>0.0</td>\n",
       "    </tr>\n",
       "    <tr>\n",
       "      <th>3</th>\n",
       "      <td>14400000</td>\n",
       "      <td>1</td>\n",
       "      <td>MORTGAGE</td>\n",
       "      <td>66000000</td>\n",
       "      <td>30</td>\n",
       "      <td>신용 카드</td>\n",
       "      <td>1</td>\n",
       "      <td>669024</td>\n",
       "      <td>281724.0</td>\n",
       "      <td>0.0</td>\n",
       "      <td>0.0</td>\n",
       "    </tr>\n",
       "    <tr>\n",
       "      <th>4</th>\n",
       "      <td>27600000</td>\n",
       "      <td>1</td>\n",
       "      <td>RENT</td>\n",
       "      <td>55200000</td>\n",
       "      <td>12</td>\n",
       "      <td>신용 카드</td>\n",
       "      <td>0</td>\n",
       "      <td>1250052</td>\n",
       "      <td>614844.0</td>\n",
       "      <td>0.0</td>\n",
       "      <td>0.0</td>\n",
       "    </tr>\n",
       "    <tr>\n",
       "      <th>...</th>\n",
       "      <td>...</td>\n",
       "      <td>...</td>\n",
       "      <td>...</td>\n",
       "      <td>...</td>\n",
       "      <td>...</td>\n",
       "      <td>...</td>\n",
       "      <td>...</td>\n",
       "      <td>...</td>\n",
       "      <td>...</td>\n",
       "      <td>...</td>\n",
       "      <td>...</td>\n",
       "    </tr>\n",
       "    <tr>\n",
       "      <th>64192</th>\n",
       "      <td>30000000</td>\n",
       "      <td>1</td>\n",
       "      <td>MORTGAGE</td>\n",
       "      <td>78000000</td>\n",
       "      <td>27</td>\n",
       "      <td>부채 통합</td>\n",
       "      <td>2</td>\n",
       "      <td>1307532</td>\n",
       "      <td>763380.0</td>\n",
       "      <td>0.0</td>\n",
       "      <td>0.0</td>\n",
       "    </tr>\n",
       "    <tr>\n",
       "      <th>64193</th>\n",
       "      <td>30000000</td>\n",
       "      <td>2</td>\n",
       "      <td>MORTGAGE</td>\n",
       "      <td>109200000</td>\n",
       "      <td>26</td>\n",
       "      <td>부채 통합</td>\n",
       "      <td>0</td>\n",
       "      <td>960612</td>\n",
       "      <td>1245252.0</td>\n",
       "      <td>0.0</td>\n",
       "      <td>0.0</td>\n",
       "    </tr>\n",
       "    <tr>\n",
       "      <th>64194</th>\n",
       "      <td>6120000</td>\n",
       "      <td>1</td>\n",
       "      <td>RENT</td>\n",
       "      <td>39600000</td>\n",
       "      <td>33</td>\n",
       "      <td>부채 통합</td>\n",
       "      <td>0</td>\n",
       "      <td>131520</td>\n",
       "      <td>80880.0</td>\n",
       "      <td>0.0</td>\n",
       "      <td>0.0</td>\n",
       "    </tr>\n",
       "    <tr>\n",
       "      <th>64195</th>\n",
       "      <td>11520000</td>\n",
       "      <td>1</td>\n",
       "      <td>MORTGAGE</td>\n",
       "      <td>66000000</td>\n",
       "      <td>41</td>\n",
       "      <td>부채 통합</td>\n",
       "      <td>1</td>\n",
       "      <td>1339536</td>\n",
       "      <td>601872.0</td>\n",
       "      <td>0.0</td>\n",
       "      <td>0.0</td>\n",
       "    </tr>\n",
       "    <tr>\n",
       "      <th>64196</th>\n",
       "      <td>6000000</td>\n",
       "      <td>1</td>\n",
       "      <td>RENT</td>\n",
       "      <td>180000000</td>\n",
       "      <td>10</td>\n",
       "      <td>부채 통합</td>\n",
       "      <td>0</td>\n",
       "      <td>308880</td>\n",
       "      <td>48960.0</td>\n",
       "      <td>0.0</td>\n",
       "      <td>0.0</td>\n",
       "    </tr>\n",
       "  </tbody>\n",
       "</table>\n",
       "<p>64197 rows × 11 columns</p>\n",
       "</div>"
      ],
      "text/plain": [
       "           대출금액  대출기간    주택소유상태       연간소득  총계좌수   대출목적  최근_2년간_연체_횟수  \\\n",
       "0      16800000     1  MORTGAGE  132000000    12  주택 개선             0   \n",
       "1       8400000     1      RENT   89971200    25  부채 통합             0   \n",
       "2      17280000     1      RENT  150000000    20  신용 카드             0   \n",
       "3      14400000     1  MORTGAGE   66000000    30  신용 카드             1   \n",
       "4      27600000     1      RENT   55200000    12  신용 카드             0   \n",
       "...         ...   ...       ...        ...   ...    ...           ...   \n",
       "64192  30000000     1  MORTGAGE   78000000    27  부채 통합             2   \n",
       "64193  30000000     2  MORTGAGE  109200000    26  부채 통합             0   \n",
       "64194   6120000     1      RENT   39600000    33  부채 통합             0   \n",
       "64195  11520000     1  MORTGAGE   66000000    41  부채 통합             1   \n",
       "64196   6000000     1      RENT  180000000    10  부채 통합             0   \n",
       "\n",
       "         총상환원금      총상환이자  총연체금액  연체계좌수  \n",
       "0       394692   146604.0    0.0    0.0  \n",
       "1            0        0.0    0.0    0.0  \n",
       "2      1786980   281820.0    0.0    0.0  \n",
       "3       669024   281724.0    0.0    0.0  \n",
       "4      1250052   614844.0    0.0    0.0  \n",
       "...        ...        ...    ...    ...  \n",
       "64192  1307532   763380.0    0.0    0.0  \n",
       "64193   960612  1245252.0    0.0    0.0  \n",
       "64194   131520    80880.0    0.0    0.0  \n",
       "64195  1339536   601872.0    0.0    0.0  \n",
       "64196   308880    48960.0    0.0    0.0  \n",
       "\n",
       "[64197 rows x 11 columns]"
      ]
     },
     "execution_count": 63,
     "metadata": {},
     "output_type": "execute_result"
    }
   ],
   "source": [
    "#근로기간, 부채_대비_소득_비율 삭제\n",
    "#pca에서 주성분이 [0.18042758, 0.09841529] 비율로 매우 작아서 최소한만 삭제하기로 함.\n",
    "\n",
    "train_df_scaled.drop(columns = ['근로기간', '부채_대비_소득_비율'], inplace=True)\n",
    "test_df_scaled.drop(columns = ['근로기간', '부채_대비_소득_비율'], inplace=True)\n",
    "test_df_scaled"
   ]
  },
  {
   "cell_type": "markdown",
   "metadata": {},
   "source": [
    "### 열 삭제 한 경우"
   ]
  },
  {
   "cell_type": "code",
   "execution_count": 69,
   "metadata": {},
   "outputs": [
    {
     "name": "stdout",
     "output_type": "stream",
     "text": [
      "사이즈 확인 : (96294, 11) (96294, 11) (64197, 11) (64197, 11)\n"
     ]
    }
   ],
   "source": [
    "train_df_del_scaled, test_df_del_scaled = scaling_df(train_df_scaled, test_df_scaled)"
   ]
  },
  {
   "cell_type": "code",
   "execution_count": 70,
   "metadata": {},
   "outputs": [
    {
     "data": {
      "text/plain": [
       "array([[-0.31304348,  0.        ,  0.5       , ..., -0.65887052,\n",
       "         0.        ,  0.        ],\n",
       "       [-0.17391304,  1.        , -0.5       , ..., -0.1215427 ,\n",
       "         0.        ,  0.        ],\n",
       "       [-0.34782609,  0.        , -0.5       , ..., -0.3100551 ,\n",
       "         0.        ,  0.        ],\n",
       "       ...,\n",
       "       [-0.17391304,  0.        , -0.5       , ..., -0.10506887,\n",
       "         0.        ,  0.        ],\n",
       "       [-0.08695652,  0.        , -0.5       , ...,  1.21917355,\n",
       "         0.        ,  0.        ],\n",
       "       [-0.59130435,  0.        ,  0.5       , ..., -0.0276584 ,\n",
       "         0.        ,  0.        ]])"
      ]
     },
     "execution_count": 70,
     "metadata": {},
     "output_type": "execute_result"
    }
   ],
   "source": [
    "train_df_del_scaled"
   ]
  },
  {
   "cell_type": "code",
   "execution_count": 71,
   "metadata": {},
   "outputs": [
    {
     "data": {
      "text/html": [
       "<div>\n",
       "<style scoped>\n",
       "    .dataframe tbody tr th:only-of-type {\n",
       "        vertical-align: middle;\n",
       "    }\n",
       "\n",
       "    .dataframe tbody tr th {\n",
       "        vertical-align: top;\n",
       "    }\n",
       "\n",
       "    .dataframe thead th {\n",
       "        text-align: right;\n",
       "    }\n",
       "</style>\n",
       "<table border=\"1\" class=\"dataframe\">\n",
       "  <thead>\n",
       "    <tr style=\"text-align: right;\">\n",
       "      <th></th>\n",
       "      <th>대출등급</th>\n",
       "    </tr>\n",
       "  </thead>\n",
       "  <tbody>\n",
       "    <tr>\n",
       "      <th>0</th>\n",
       "      <td>C</td>\n",
       "    </tr>\n",
       "    <tr>\n",
       "      <th>1</th>\n",
       "      <td>B</td>\n",
       "    </tr>\n",
       "    <tr>\n",
       "      <th>2</th>\n",
       "      <td>A</td>\n",
       "    </tr>\n",
       "    <tr>\n",
       "      <th>3</th>\n",
       "      <td>C</td>\n",
       "    </tr>\n",
       "    <tr>\n",
       "      <th>4</th>\n",
       "      <td>B</td>\n",
       "    </tr>\n",
       "    <tr>\n",
       "      <th>...</th>\n",
       "      <td>...</td>\n",
       "    </tr>\n",
       "    <tr>\n",
       "      <th>96289</th>\n",
       "      <td>C</td>\n",
       "    </tr>\n",
       "    <tr>\n",
       "      <th>96290</th>\n",
       "      <td>E</td>\n",
       "    </tr>\n",
       "    <tr>\n",
       "      <th>96291</th>\n",
       "      <td>A</td>\n",
       "    </tr>\n",
       "    <tr>\n",
       "      <th>96292</th>\n",
       "      <td>D</td>\n",
       "    </tr>\n",
       "    <tr>\n",
       "      <th>96293</th>\n",
       "      <td>C</td>\n",
       "    </tr>\n",
       "  </tbody>\n",
       "</table>\n",
       "<p>96294 rows × 1 columns</p>\n",
       "</div>"
      ],
      "text/plain": [
       "      대출등급\n",
       "0        C\n",
       "1        B\n",
       "2        A\n",
       "3        C\n",
       "4        B\n",
       "...    ...\n",
       "96289    C\n",
       "96290    E\n",
       "96291    A\n",
       "96292    D\n",
       "96293    C\n",
       "\n",
       "[96294 rows x 1 columns]"
      ]
     },
     "execution_count": 71,
     "metadata": {},
     "output_type": "execute_result"
    }
   ],
   "source": [
    "y"
   ]
  },
  {
   "cell_type": "code",
   "execution_count": 72,
   "metadata": {},
   "outputs": [],
   "source": [
    "#y값에 대한 인코딩\n",
    "label_order = {'A': 0, 'B': 1, 'C': 2, 'D': 3, 'E': 4, 'F': 5, 'G': 6}\n",
    "\n",
    "# 라벨 인코더 생성 및 순서 정의\n",
    "encoder.classes_ = [label for label, order in sorted(label_order.items(), key=lambda x: x[1])]\n",
    "\n",
    "# 데이터프레임의 '대출등급' 열에 라벨 인코딩 적용\n",
    "import numpy as np\n",
    "# y['대출등급'] = encoder.transform(y['대출등급'])\n",
    "y_array = np.array(y['대출등급'])\n",
    "y_array_encoded = encoder.fit_transform(y_array)\n",
    "y['대출등급'] = y_array_encoded"
   ]
  },
  {
   "cell_type": "code",
   "execution_count": 75,
   "metadata": {},
   "outputs": [
    {
     "data": {
      "text/plain": [
       "대출등급\n",
       "1       0.299261\n",
       "2       0.286861\n",
       "0       0.174175\n",
       "3       0.138679\n",
       "4       0.076370\n",
       "5       0.020292\n",
       "6       0.004362\n",
       "dtype: float64"
      ]
     },
     "execution_count": 75,
     "metadata": {},
     "output_type": "execute_result"
    }
   ],
   "source": [
    "y.value_counts() / len(y) #비율 체크"
   ]
  },
  {
   "cell_type": "markdown",
   "metadata": {},
   "source": [
    "### 다시 전처리 시작\n",
    "- RobustScaler"
   ]
  },
  {
   "cell_type": "code",
   "execution_count": 61,
   "metadata": {},
   "outputs": [],
   "source": [
    "#스케일링, 인코딩 함수 만들기 Robustscaler 사용\n",
    "from sklearn.preprocessing import LabelEncoder, RobustScaler\n",
    "from sklearn.model_selection import train_test_split\n",
    "\n",
    "\n",
    "encoder = LabelEncoder()\n",
    "scaler = RobustScaler()\n",
    "\n",
    "\n",
    "def scaling_df(train_df, test_df):\n",
    "    len1 = len(train_df)\n",
    "    len2 = len(test_df)\n",
    "\n",
    "    df = pd.concat([train_df, test_df], axis=0)\n",
    "    df['주택소유상태'] = encoder.fit_transform(df['주택소유상태'])\n",
    "    df['대출목적'] = encoder.fit_transform(df['대출목적'])\n",
    "\n",
    "    #train, test 다시 나누기\n",
    "    train_df_scaled = df.iloc[:len1, :]\n",
    "    test_df_scaled = df.iloc[len1:, :]\n",
    "\n",
    "    print('사이즈 확인 :', train_df.shape, train_df_scaled.shape, test_df.shape, test_df_scaled.shape) #크기 확인\n",
    "\n",
    "    #수치형 인코딩\n",
    "    train_df_scaled2 = scaler.fit_transform(train_df_scaled)\n",
    "    test_df_scaled2 = scaler.transform(test_df_scaled)\n",
    "\n",
    "    return train_df_scaled2, test_df_scaled2"
   ]
  },
  {
   "cell_type": "code",
   "execution_count": 64,
   "metadata": {},
   "outputs": [
    {
     "name": "stdout",
     "output_type": "stream",
     "text": [
      "사이즈 확인 : (96294, 13) (96294, 13) (64197, 13) (64197, 13)\n",
      "사이즈 확인 : (96294, 13) (96294, 13) (64197, 13) (64197, 13)\n"
     ]
    }
   ],
   "source": [
    "#적용\n",
    "train_df_scaled_o2, test_df_scaled_o2 = scaling_df(train_df_scaled_o, test_df_scaled_o) #결측치 최빈값으로 대체\n",
    "train_df_scaled_e2, test_df_scaled_e2 = scaling_df(train_df_scaled_e, test_df_scaled_e) #결측치 중앙값으로 대체"
   ]
  },
  {
   "cell_type": "code",
   "execution_count": null,
   "metadata": {},
   "outputs": [],
   "source": [
    "#y값에 대한 인코딩\n",
    "label_order = {'A': 0, 'B': 1, 'C': 2, 'D': 3, 'E': 4, 'F': 5, 'G': 6}\n",
    "\n",
    "# 라벨 인코더 생성 및 순서 정의\n",
    "encoder.classes_ = [label for label, order in sorted(label_order.items(), key=lambda x: x[1])]\n",
    "\n",
    "# 데이터프레임의 '대출등급' 열에 라벨 인코딩 적용\n",
    "import numpy as np\n",
    "# y['대출등급'] = encoder.transform(y['대출등급'])\n",
    "y_array = np.array(y['대출등급'])\n",
    "y_array_encoded = encoder.fit_transform(y_array)\n",
    "y['대출등급'] = y_array_encoded"
   ]
  },
  {
   "cell_type": "markdown",
   "metadata": {},
   "source": [
    "### mode 예측모델"
   ]
  },
  {
   "cell_type": "code",
   "execution_count": null,
   "metadata": {},
   "outputs": [],
   "source": [
<<<<<<< Updated upstream
    "#데이터 나누기 : mode 먼저\n",
    "from sklearn.model_selection import train_test_split\n",
    "from imblearn.over_sampling import RandomOverSampler\n",
    "\n",
    "xtr, xval, ytr, yval = train_test_split(train_df_scaled_o2, y, test_size = 0.2, random_state=123)\n"
   ]
  },
  {
   "cell_type": "code",
   "execution_count": null,
   "metadata": {},
   "outputs": [
    {
     "name": "stdout",
     "output_type": "stream",
     "text": [
      "정확도 : 0.8063243159042526\n",
      "f1_score : 0.8027520201212082\n",
      "혼동행렬 : [[2779  511   24    0    0    0    0]\n",
      " [ 264 4839  525   11    6    0    0]\n",
      " [  49  482 4887  135   17    0    0]\n",
      " [  11   85  631 1926  138    1    1]\n",
      " [   2   26   89  435  897   10    1]\n",
      " [   1    5   18   41  133  188    1]\n",
      " [   0    1    5   12   11   48   13]]\n"
     ]
    }
   ],
   "source": [
    "#분류 모델 : 랜덤포레스트\n",
    "\n",
    "from sklearn.ensemble import RandomForestClassifier\n",
    "from sklearn.metrics import f1_score, confusion_matrix, accuracy_score\n",
    "\n",
    "rf = RandomForestClassifier(random_state=123)\n",
    "rf.fit(xtr, ytr)\n",
    "yval_pred = rf.predict(xval)\n",
    "\n",
    "print(f'정확도 : {accuracy_score(yval, yval_pred)}')\n",
    "print(f'f1_score : {f1_score(yval, yval_pred, average = \"weighted\")}')\n",
    "print(f'혼동행렬 : {confusion_matrix(yval, yval_pred)}')\n"
   ]
  },
  {
   "cell_type": "code",
   "execution_count": null,
   "metadata": {},
   "outputs": [],
   "source": [
    "#SVM\n",
    "from sklearn.svm import SVC\n",
    "\n",
    "svd = SVC()\n",
    "svd.fit(xtr, ytr)\n",
    "yval_pred = svd.predict(xval)\n",
    "\n",
    "print(f'정확도 : {accuracy_score(yval, yval_pred)}')\n",
    "print(f'f1_score : {f1_score(yval, yval_pred, average = \"weighted\")}')\n",
    "print(f'혼동행렬 : {confusion_matrix(yval, yval_pred)}')\n"
   ]
  },
  {
   "cell_type": "code",
   "execution_count": null,
   "metadata": {},
   "outputs": [],
   "source": [
    "from sklearn.model_selection import GridSearchCV\n",
    "\n",
    "# SVM 모델\n",
    "svm_model = SVC()\n",
    "\n",
    "# 탐색할 하이퍼파라미터 그리드\n",
    "param_grid = {'C': [0.1, 1, 10],\n",
    "              'kernel': ['linear', 'rbf'],\n",
    "              'gamma': [0.01, 0.1, 1, 'scale']}\n",
    "\n",
    "# 그리드 서치 수행\n",
    "grid_search = GridSearchCV(svm_model, param_grid, cv=5)\n",
    "grid_search.fit(xtr, ytr)\n",
    "\n",
    "# 최적의 하이퍼파라미터 출력\n",
    "print(\"최적의 하이퍼파라미터:\", grid_search.best_params_)"
   ]
  },
  {
   "cell_type": "code",
   "execution_count": null,
   "metadata": {},
   "outputs": [
    {
     "name": "stdout",
     "output_type": "stream",
     "text": [
      "정확도 : 0.848278726829015\n",
      "f1_score : 0.8475855525359892\n",
      "혼동행렬 : [[2909  392   12    1    0    0    0]\n",
      " [ 316 4886  427   13    3    0    0]\n",
      " [  51  391 4904  197   26    1    0]\n",
      " [   5   69  266 2251  196    6    0]\n",
      " [   2   15   55  269 1082   36    1]\n",
      " [   0    4   20   16   76  264    7]\n",
      " [   0    1    3    6   12   27   41]]\n"
     ]
    }
   ],
   "source": [
    "#XGBoost\n",
    "import xgboost as xgb\n",
    "\n",
    "model = xgb.XGBClassifier()\n",
    "model.fit(xtr, ytr)\n",
    "yval_pred = model.predict(xval)\n",
    "\n",
    "print(f'정확도 : {accuracy_score(yval, yval_pred)}')\n",
    "print(f'f1_score : {f1_score(yval, yval_pred, average = \"weighted\")}')\n",
    "print(f'혼동행렬 : {confusion_matrix(yval, yval_pred)}')\n"
   ]
  },
  {
   "cell_type": "code",
   "execution_count": null,
   "metadata": {},
   "outputs": [
    {
     "name": "stdout",
     "output_type": "stream",
     "text": [
      "정확도 : 0.8497325925541306\n",
      "f1_score : 0.8490680625488758\n",
      "혼동행렬 : [[2923  376   14    1    0    0    0]\n",
      " [ 311 4902  416   13    3    0    0]\n",
      " [  51  391 4908  195   24    1    0]\n",
      " [   4   72  261 2242  205    9    0]\n",
      " [   2   14   59  273 1079   31    2]\n",
      " [   1    3   15   16   74  268   10]\n",
      " [   0    1    5    9    6   26   43]]\n"
     ]
    }
   ],
   "source": [
    "#XGBoost 결측치 처리 전 결과\n",
    "import xgboost as xgb\n",
    "\n",
    "model = xgb.XGBClassifier()\n",
    "model.fit(xtr, ytr)\n",
    "yval_pred = model.predict(xval)\n",
    "\n",
    "print(f'정확도 : {accuracy_score(yval, yval_pred)}')\n",
    "print(f'f1_score : {f1_score(yval, yval_pred, average = \"weighted\")}')\n",
    "print(f'혼동행렬 : {confusion_matrix(yval, yval_pred)}')\n"
   ]
  },
  {
   "cell_type": "code",
   "execution_count": null,
   "metadata": {},
   "outputs": [
    {
     "name": "stdout",
     "output_type": "stream",
     "text": [
      "[LightGBM] [Warning] feature_fraction is set=0.9, colsample_bytree=1.0 will be ignored. Current value: feature_fraction=0.9\n",
      "[LightGBM] [Warning] bagging_fraction is set=0.8, subsample=1.0 will be ignored. Current value: bagging_fraction=0.8\n",
      "[LightGBM] [Warning] bagging_freq is set=5, subsample_freq=0 will be ignored. Current value: bagging_freq=5\n",
      "[LightGBM] [Warning] feature_fraction is set=0.9, colsample_bytree=1.0 will be ignored. Current value: feature_fraction=0.9\n",
      "[LightGBM] [Warning] bagging_fraction is set=0.8, subsample=1.0 will be ignored. Current value: bagging_fraction=0.8\n",
      "[LightGBM] [Warning] bagging_freq is set=5, subsample_freq=0 will be ignored. Current value: bagging_freq=5\n",
      "[LightGBM] [Warning] feature_fraction is set=0.9, colsample_bytree=1.0 will be ignored. Current value: feature_fraction=0.9\n",
      "[LightGBM] [Warning] bagging_fraction is set=0.8, subsample=1.0 will be ignored. Current value: bagging_fraction=0.8\n",
      "[LightGBM] [Warning] bagging_freq is set=5, subsample_freq=0 will be ignored. Current value: bagging_freq=5\n",
      "[LightGBM] [Warning] feature_fraction is set=0.9, colsample_bytree=1.0 will be ignored. Current value: feature_fraction=0.9\n",
      "[LightGBM] [Warning] bagging_fraction is set=0.8, subsample=1.0 will be ignored. Current value: bagging_fraction=0.8\n",
      "[LightGBM] [Warning] bagging_freq is set=5, subsample_freq=0 will be ignored. Current value: bagging_freq=5\n",
      "정확도 : 0.8296380912819981\n",
      "f1_score : 0.8284809020263961\n",
      "혼동행렬 : [[2821  477   16    0    0    0    0]\n",
      " [ 303 4828  510    4    0    0    0]\n",
      " [  54  420 4908  174   13    1    0]\n",
      " [   8   73  422 2099  186    5    0]\n",
      " [   2   19   73  308 1017   39    2]\n",
      " [   1    2   30   10   73  262    9]\n",
      " [   0    0    8    4    9   26   43]]\n"
     ]
    }
   ],
   "source": [
    "#LightGBM 그래디언트 부스팅 프레임워크 / 트리 기반의 앙상블 모델\n",
    "from lightgbm import LGBMClassifier\n",
    "\n",
    "# LightGBM 모델 생성\n",
    "model2 = LGBMClassifier(\n",
    "    objective='multiclass',\n",
    "    num_class=7,\n",
    "    metric='multi_logloss',\n",
    "    boosting_type='gbdt',\n",
    "    num_leaves=31,\n",
    "    learning_rate=0.05,\n",
    "    feature_fraction=0.9,\n",
    "    bagging_fraction=0.8,\n",
    "    bagging_freq=5,\n",
    "    verbose=0\n",
    ")\n",
    "\n",
    "# LightGBM 모델 학습\n",
    "model2.fit(xtr, ytr, eval_set=[(xval, yval)])\n",
    "\n",
    "# 검증 데이터 예측\n",
    "yval_pred = model2.predict(xval)\n",
    "\n",
    "print(f'정확도 : {accuracy_score(yval, yval_pred)}')\n",
    "print(f'f1_score : {f1_score(yval, yval_pred, average = \"weighted\")}')\n",
    "print(f'혼동행렬 : {confusion_matrix(yval, yval_pred)}')"
   ]
  },
  {
   "cell_type": "code",
   "execution_count": null,
   "metadata": {},
   "outputs": [
    {
     "name": "stdout",
     "output_type": "stream",
     "text": [
      "[LightGBM] [Warning] feature_fraction is set=0.9, colsample_bytree=1.0 will be ignored. Current value: feature_fraction=0.9\n",
      "[LightGBM] [Warning] bagging_fraction is set=0.8, subsample=1.0 will be ignored. Current value: bagging_fraction=0.8\n",
      "[LightGBM] [Warning] bagging_freq is set=5, subsample_freq=0 will be ignored. Current value: bagging_freq=5\n",
      "[LightGBM] [Warning] feature_fraction is set=0.9, colsample_bytree=1.0 will be ignored. Current value: feature_fraction=0.9\n",
      "[LightGBM] [Warning] bagging_fraction is set=0.8, subsample=1.0 will be ignored. Current value: bagging_fraction=0.8\n",
      "[LightGBM] [Warning] bagging_freq is set=5, subsample_freq=0 will be ignored. Current value: bagging_freq=5\n",
      "[LightGBM] [Warning] feature_fraction is set=0.9, colsample_bytree=1.0 will be ignored. Current value: feature_fraction=0.9\n",
      "[LightGBM] [Warning] bagging_fraction is set=0.8, subsample=1.0 will be ignored. Current value: bagging_fraction=0.8\n",
      "[LightGBM] [Warning] bagging_freq is set=5, subsample_freq=0 will be ignored. Current value: bagging_freq=5\n",
      "[LightGBM] [Warning] feature_fraction is set=0.9, colsample_bytree=1.0 will be ignored. Current value: feature_fraction=0.9\n",
      "[LightGBM] [Warning] bagging_fraction is set=0.8, subsample=1.0 will be ignored. Current value: bagging_fraction=0.8\n",
      "[LightGBM] [Warning] bagging_freq is set=5, subsample_freq=0 will be ignored. Current value: bagging_freq=5\n",
      "정확도 : 0.8312996521107014\n",
      "f1_score : 0.830097269899305\n",
      "혼동행렬 : [[2829  471   14    0    0    0    0]\n",
      " [ 302 4841  498    4    0    0    0]\n",
      " [  56  427 4911  163   12    1    0]\n",
      " [   7   78  422 2100  180    6    0]\n",
      " [   2   20   73  302 1025   36    2]\n",
      " [   1    2   30   12   70  264    8]\n",
      " [   0    0    8    5    8   29   40]]\n"
     ]
    }
   ],
   "source": [
    "#LightGBM 그래디언트 부스팅 프레임워크 / 트리 기반의 앙상블 모델 : 결측치 처리 전 결과\n",
    "from lightgbm import LGBMClassifier\n",
    "\n",
    "# LightGBM 모델 생성\n",
    "model2 = LGBMClassifier(\n",
    "    objective='multiclass',\n",
    "    num_class=7,\n",
    "    metric='multi_logloss',\n",
    "    boosting_type='gbdt',\n",
    "    num_leaves=31,\n",
    "    learning_rate=0.05,\n",
    "    feature_fraction=0.9,\n",
    "    bagging_fraction=0.8,\n",
    "    bagging_freq=5,\n",
    "    verbose=0\n",
    ")\n",
    "\n",
    "# LightGBM 모델 학습\n",
    "model2.fit(xtr, ytr, eval_set=[(xval, yval)])\n",
    "\n",
    "# 검증 데이터 예측\n",
    "yval_pred = model2.predict(xval)\n",
    "\n",
    "print(f'정확도 : {accuracy_score(yval, yval_pred)}')\n",
    "print(f'f1_score : {f1_score(yval, yval_pred, average = \"weighted\")}')\n",
    "print(f'혼동행렬 : {confusion_matrix(yval, yval_pred)}')\n",
    "\n",
    "\n"
   ]
  },
  {
   "cell_type": "markdown",
   "metadata": {},
   "source": [
    "### median 결측치\n",
    "' + Robust"
   ]
  },
  {
   "cell_type": "code",
   "execution_count": null,
   "metadata": {},
   "outputs": [],
   "source": [
    "#데이터 나누기\n",
    "from sklearn.model_selection import train_test_split\n",
    "\n",
    "xtr2, xval2, ytr2, yval2 = train_test_split(train_df_scaled_e2, y, test_size = 0.2, random_state=123)\n"
   ]
  },
  {
   "cell_type": "code",
   "execution_count": null,
   "metadata": {},
   "outputs": [
    {
     "name": "stdout",
     "output_type": "stream",
     "text": [
      "정확도 : 0.8071550963186043\n",
      "f1_score : 0.8034984212141536\n",
      "혼동행렬 : [[2778  512   24    0    0    0    0]\n",
      " [ 276 4842  511   12    4    0    0]\n",
      " [  46  459 4902  145   18    0    0]\n",
      " [  12   86  634 1912  148    1    0]\n",
      " [   3   25   92  426  906    7    1]\n",
      " [   1    6   21   35  129  194    1]\n",
      " [   0    1    8   11   12   47   11]]\n"
     ]
    }
   ],
   "source": [
    "#분류 모델 : 랜덤포레스트\n",
    "\n",
    "rf = RandomForestClassifier(random_state=123)\n",
    "rf.fit(xtr2, ytr2)\n",
    "yval_pred2 = rf.predict(xval2)\n",
    "\n",
    "print(f'정확도 : {accuracy_score(yval2, yval_pred2)}')\n",
    "print(f'f1_score : {f1_score(yval2, yval_pred2, average = \"weighted\")}')\n",
    "print(f'혼동행렬 : {confusion_matrix(yval2, yval_pred2)}')\n"
   ]
  },
  {
   "cell_type": "code",
   "execution_count": null,
   "metadata": {},
   "outputs": [
    {
     "name": "stdout",
     "output_type": "stream",
     "text": [
      "정확도 : 0.8522249337971858\n",
      "f1_score : 0.8515847483871731\n",
      "혼동행렬 : [[2937  364   11    2    0    0    0]\n",
      " [ 300 4922  402   18    3    0    0]\n",
      " [  45  396 4903  202   23    1    0]\n",
      " [   5   73  251 2255  199   10    0]\n",
      " [   2   13   58  268 1084   34    1]\n",
      " [   0    3   21   12   73  270    8]\n",
      " [   0    1    5    6    9   27   42]]\n"
     ]
    }
   ],
   "source": [
    "#XGBoost\n",
    "import xgboost as xgb\n",
    "\n",
    "model = xgb.XGBClassifier()\n",
    "model.fit(xtr2, ytr2)\n",
    "yval_pred2 = model.predict(xval2)\n",
    "\n",
    "print(f'정확도 : {accuracy_score(yval2, yval_pred2)}')\n",
    "print(f'f1_score : {f1_score(yval2, yval_pred2, average = \"weighted\")}')\n",
    "print(f'혼동행렬 : {confusion_matrix(yval2, yval_pred2)}')\n"
   ]
  },
  {
   "cell_type": "code",
   "execution_count": null,
   "metadata": {},
   "outputs": [
    {
     "name": "stdout",
     "output_type": "stream",
     "text": [
      "[LightGBM] [Warning] feature_fraction is set=0.9, colsample_bytree=1.0 will be ignored. Current value: feature_fraction=0.9\n",
      "[LightGBM] [Warning] bagging_fraction is set=0.8, subsample=1.0 will be ignored. Current value: bagging_fraction=0.8\n",
      "[LightGBM] [Warning] bagging_freq is set=5, subsample_freq=0 will be ignored. Current value: bagging_freq=5\n",
      "[LightGBM] [Warning] feature_fraction is set=0.9, colsample_bytree=1.0 will be ignored. Current value: feature_fraction=0.9\n",
      "[LightGBM] [Warning] bagging_fraction is set=0.8, subsample=1.0 will be ignored. Current value: bagging_fraction=0.8\n",
      "[LightGBM] [Warning] bagging_freq is set=5, subsample_freq=0 will be ignored. Current value: bagging_freq=5\n",
      "[LightGBM] [Warning] feature_fraction is set=0.9, colsample_bytree=1.0 will be ignored. Current value: feature_fraction=0.9\n",
      "[LightGBM] [Warning] bagging_fraction is set=0.8, subsample=1.0 will be ignored. Current value: bagging_fraction=0.8\n",
      "[LightGBM] [Warning] bagging_freq is set=5, subsample_freq=0 will be ignored. Current value: bagging_freq=5\n",
      "[LightGBM] [Warning] feature_fraction is set=0.9, colsample_bytree=1.0 will be ignored. Current value: feature_fraction=0.9\n",
      "[LightGBM] [Warning] bagging_fraction is set=0.8, subsample=1.0 will be ignored. Current value: bagging_fraction=0.8\n",
      "[LightGBM] [Warning] bagging_freq is set=5, subsample_freq=0 will be ignored. Current value: bagging_freq=5\n",
      "정확도 : 0.8296380912819981\n",
      "f1_score : 0.8284809020263961\n",
      "혼동행렬 : [[2821  477   16    0    0    0    0]\n",
      " [ 303 4828  510    4    0    0    0]\n",
      " [  54  420 4908  174   13    1    0]\n",
      " [   8   73  422 2099  186    5    0]\n",
      " [   2   19   73  308 1017   39    2]\n",
      " [   1    2   30   10   73  262    9]\n",
      " [   0    0    8    4    9   26   43]]\n"
     ]
    }
   ],
   "source": [
    "#LightGBM 그래디언트 부스팅 프레임워크 / 트리 기반의 앙상블 모델 : 결측치 처리 전 결과\n",
    "from lightgbm import LGBMClassifier\n",
    "\n",
    "# LightGBM 모델 생성\n",
    "model2 = LGBMClassifier(\n",
    "    objective='multiclass',\n",
    "    num_class=7,\n",
    "    metric='multi_logloss',\n",
    "    boosting_type='gbdt',\n",
    "    num_leaves=31,\n",
    "    learning_rate=0.05,\n",
    "    feature_fraction=0.9,\n",
    "    bagging_fraction=0.8,\n",
    "    bagging_freq=5,\n",
    "    verbose=0\n",
    ")\n",
    "\n",
    "# LightGBM 모델 학습\n",
    "model2.fit(xtr2, ytr2, eval_set=[(xval2, yval2)])\n",
    "\n",
    "# 검증 데이터 예측\n",
    "yval_pred2 = model2.predict(xval2)\n",
    "\n",
    "print(f'정확도 : {accuracy_score(yval2, yval_pred2)}')\n",
    "print(f'f1_score : {f1_score(yval2, yval_pred2, average = \"weighted\")}')\n",
    "print(f'혼동행렬 : {confusion_matrix(yval2, yval_pred2)}')\n"
   ]
  },
  {
   "cell_type": "markdown",
   "metadata": {},
   "source": [
    "하이퍼파라미터 조절 전, 결측치 median + Robust + xgboost가 0.85로 가장 높음"
   ]
  },
  {
   "cell_type": "markdown",
   "metadata": {},
   "source": [
    "### 스케일링 MinMax\n",
    " '+ mode"
   ]
  },
  {
   "cell_type": "code",
   "execution_count": null,
   "metadata": {},
   "outputs": [
    {
     "name": "stdout",
     "output_type": "stream",
     "text": [
      "사이즈 확인 : (96294, 13) (96294, 13) (64197, 13) (64197, 13)\n",
      "사이즈 확인 : (96294, 13) (96294, 13) (64197, 13) (64197, 13)\n"
     ]
    }
   ],
   "source": [
    "from sklearn.preprocessing import MinMaxScaler\n",
    "\n",
    "scaler = MinMaxScaler()\n",
    "\n",
    "train_df_scaled_o2, test_df_scaled_o2 = scaling_df(train_df_scaled_o, test_df_scaled_o) #결측치 최빈값으로 대체\n",
    "train_df_scaled_e2, test_df_scaled_e2 = scaling_df(train_df_scaled_e, test_df_scaled_e) #결측치 중앙값으로 대체"
   ]
  },
  {
   "cell_type": "code",
   "execution_count": null,
   "metadata": {},
   "outputs": [],
   "source": [
    "#데이터 나누기 : mode 먼저\n",
    "from sklearn.model_selection import train_test_split\n",
    "\n",
    "xtr, xval, ytr, yval = train_test_split(train_df_scaled_o2, y, test_size = 0.2, random_state=123)"
   ]
  },
  {
   "cell_type": "code",
   "execution_count": null,
   "metadata": {},
   "outputs": [
    {
     "name": "stdout",
     "output_type": "stream",
     "text": [
      "정확도 : 0.8064281634560465\n",
      "f1_score : 0.802706481966337\n",
      "혼동행렬 : [[2771  516   27    0    0    0    0]\n",
      " [ 261 4850  517   11    6    0    0]\n",
      " [  47  472 4901  133   17    0    0]\n",
      " [  10   79  641 1917  143    2    1]\n",
      " [   2   26   91  436  895    9    1]\n",
      " [   1    6   19   42  133  185    1]\n",
      " [   0    1    5   12   10   50   12]]\n"
     ]
    }
   ],
   "source": [
    "#분류 모델 : 랜덤포레스트\n",
    "\n",
    "from sklearn.ensemble import RandomForestClassifier\n",
    "from sklearn.metrics import f1_score, confusion_matrix, accuracy_score\n",
    "\n",
    "rf = RandomForestClassifier(random_state=123)\n",
    "rf.fit(xtr, ytr)\n",
    "yval_pred = rf.predict(xval)\n",
    "\n",
    "print(f'정확도 : {accuracy_score(yval, yval_pred)}')\n",
    "print(f'f1_score : {f1_score(yval, yval_pred, average = \"weighted\")}')\n",
    "print(f'혼동행렬 : {confusion_matrix(yval, yval_pred)}')\n"
   ]
  },
  {
   "cell_type": "code",
   "execution_count": null,
   "metadata": {},
   "outputs": [
    {
     "name": "stdout",
     "output_type": "stream",
     "text": [
      "정확도 : 0.848278726829015\n",
      "f1_score : 0.8475855525359892\n",
      "혼동행렬 : [[2909  392   12    1    0    0    0]\n",
      " [ 316 4886  427   13    3    0    0]\n",
      " [  51  391 4904  197   26    1    0]\n",
      " [   5   69  266 2251  196    6    0]\n",
      " [   2   15   55  269 1082   36    1]\n",
      " [   0    4   20   16   76  264    7]\n",
      " [   0    1    3    6   12   27   41]]\n"
     ]
    }
   ],
   "source": [
    "#XGBoost\n",
    "import xgboost as xgb\n",
    "\n",
    "model = xgb.XGBClassifier()\n",
    "model.fit(xtr, ytr)\n",
    "yval_pred = model.predict(xval)\n",
    "\n",
    "print(f'정확도 : {accuracy_score(yval, yval_pred)}')\n",
    "print(f'f1_score : {f1_score(yval, yval_pred, average = \"weighted\")}')\n",
    "print(f'혼동행렬 : {confusion_matrix(yval, yval_pred)}')\n"
   ]
  },
  {
   "cell_type": "code",
   "execution_count": null,
   "metadata": {},
   "outputs": [
    {
     "name": "stdout",
     "output_type": "stream",
     "text": [
      "[LightGBM] [Warning] feature_fraction is set=0.9, colsample_bytree=1.0 will be ignored. Current value: feature_fraction=0.9\n",
      "[LightGBM] [Warning] bagging_fraction is set=0.8, subsample=1.0 will be ignored. Current value: bagging_fraction=0.8\n",
      "[LightGBM] [Warning] bagging_freq is set=5, subsample_freq=0 will be ignored. Current value: bagging_freq=5\n",
      "[LightGBM] [Warning] feature_fraction is set=0.9, colsample_bytree=1.0 will be ignored. Current value: feature_fraction=0.9\n",
      "[LightGBM] [Warning] bagging_fraction is set=0.8, subsample=1.0 will be ignored. Current value: bagging_fraction=0.8\n",
      "[LightGBM] [Warning] bagging_freq is set=5, subsample_freq=0 will be ignored. Current value: bagging_freq=5\n",
      "[LightGBM] [Warning] feature_fraction is set=0.9, colsample_bytree=1.0 will be ignored. Current value: feature_fraction=0.9\n",
      "[LightGBM] [Warning] bagging_fraction is set=0.8, subsample=1.0 will be ignored. Current value: bagging_fraction=0.8\n",
      "[LightGBM] [Warning] bagging_freq is set=5, subsample_freq=0 will be ignored. Current value: bagging_freq=5\n",
      "[LightGBM] [Warning] feature_fraction is set=0.9, colsample_bytree=1.0 will be ignored. Current value: feature_fraction=0.9\n",
      "[LightGBM] [Warning] bagging_fraction is set=0.8, subsample=1.0 will be ignored. Current value: bagging_fraction=0.8\n",
      "[LightGBM] [Warning] bagging_freq is set=5, subsample_freq=0 will be ignored. Current value: bagging_freq=5\n",
      "정확도 : 0.8292746248507191\n",
      "f1_score : 0.8280937759595118\n",
      "혼동행렬 : [[2843  454   17    0    0    0    0]\n",
      " [ 313 4819  510    3    0    0    0]\n",
      " [  48  451 4890  167   13    1    0]\n",
      " [   6   78  414 2111  179    5    0]\n",
      " [   2   18   69  324 1011   33    3]\n",
      " [   0    4   28   12   71  256   16]\n",
      " [   0    0    7    6   10   26   41]]\n"
     ]
    }
   ],
   "source": [
    "#LightGBM 그래디언트 부스팅 프레임워크 / 트리 기반의 앙상블 모델 : 결측치 처리 전 결과\n",
    "from lightgbm import LGBMClassifier\n",
    "\n",
    "# LightGBM 모델 생성\n",
    "model2 = LGBMClassifier(\n",
    "    objective='multiclass',\n",
    "    num_class=7,\n",
    "    metric='multi_logloss',\n",
    "    boosting_type='gbdt',\n",
    "    num_leaves=31,\n",
    "    learning_rate=0.05,\n",
    "    feature_fraction=0.9,\n",
    "    bagging_fraction=0.8,\n",
    "    bagging_freq=5,\n",
    "    verbose=0\n",
    ")\n",
    "\n",
    "# LightGBM 모델 학습\n",
    "model2.fit(xtr, ytr, eval_set=[(xval, yval)])\n",
    "\n",
    "# 검증 데이터 예측\n",
    "yval_pred = model2.predict(xval)\n",
    "\n",
    "print(f'정확도 : {accuracy_score(yval, yval_pred)}')\n",
    "print(f'f1_score : {f1_score(yval, yval_pred, average = \"weighted\")}')\n",
    "print(f'혼동행렬 : {confusion_matrix(yval, yval_pred)}')\n"
   ]
  },
  {
   "cell_type": "markdown",
   "metadata": {},
   "source": [
    "- median 시도"
   ]
  },
  {
   "cell_type": "code",
   "execution_count": null,
   "metadata": {},
   "outputs": [],
   "source": [
    "#데이터 나누기\n",
    "from sklearn.model_selection import train_test_split\n",
    "\n",
    "xtr2, xval2, ytr2, yval2 = train_test_split(train_df_scaled_e2, y, test_size = 0.2, random_state=123)"
   ]
  },
  {
   "cell_type": "code",
   "execution_count": null,
   "metadata": {},
   "outputs": [
    {
     "name": "stdout",
     "output_type": "stream",
     "text": [
      "정확도 : 0.8068435536632224\n",
      "f1_score : 0.8032819632738034\n",
      "혼동행렬 : [[2772  516   26    0    0    0    0]\n",
      " [ 278 4829  523   11    4    0    0]\n",
      " [  44  459 4910  137   20    0    0]\n",
      " [   9   90  634 1913  146    1    0]\n",
      " [   3   24   93  427  905    7    1]\n",
      " [   1    6   21   35  125  198    1]\n",
      " [   0    1    6   13   10   48   12]]\n"
     ]
    }
   ],
   "source": [
    "#분류 모델 : 랜덤포레스트\n",
    "\n",
    "rf = RandomForestClassifier(random_state=123)\n",
    "rf.fit(xtr2, ytr2)\n",
    "yval_pred2 = rf.predict(xval2)\n",
    "\n",
    "print(f'정확도 : {accuracy_score(yval2, yval_pred2)}')\n",
    "print(f'f1_score : {f1_score(yval2, yval_pred2, average = \"weighted\")}')\n",
    "print(f'혼동행렬 : {confusion_matrix(yval2, yval_pred2)}')"
   ]
  },
  {
   "cell_type": "code",
   "execution_count": null,
   "metadata": {},
   "outputs": [
    {
     "name": "stdout",
     "output_type": "stream",
     "text": [
      "정확도 : 0.8522249337971858\n",
      "f1_score : 0.8515847483871731\n",
      "혼동행렬 : [[2937  364   11    2    0    0    0]\n",
      " [ 300 4922  402   18    3    0    0]\n",
      " [  45  396 4903  202   23    1    0]\n",
      " [   5   73  251 2255  199   10    0]\n",
      " [   2   13   58  268 1084   34    1]\n",
      " [   0    3   21   12   73  270    8]\n",
      " [   0    1    5    6    9   27   42]]\n"
     ]
    }
   ],
   "source": [
    "#XGBoost\n",
    "import xgboost as xgb\n",
    "\n",
    "model = xgb.XGBClassifier()\n",
    "model.fit(xtr2, ytr2)\n",
    "yval_pred2 = model.predict(xval2)\n",
    "\n",
    "print(f'정확도 : {accuracy_score(yval2, yval_pred2)}')\n",
    "print(f'f1_score : {f1_score(yval2, yval_pred2, average = \"weighted\")}')\n",
    "print(f'혼동행렬 : {confusion_matrix(yval2, yval_pred2)}')"
   ]
  },
  {
   "cell_type": "code",
   "execution_count": null,
   "metadata": {},
   "outputs": [
    {
     "name": "stdout",
     "output_type": "stream",
     "text": [
      "[LightGBM] [Warning] feature_fraction is set=0.9, colsample_bytree=1.0 will be ignored. Current value: feature_fraction=0.9\n",
      "[LightGBM] [Warning] bagging_fraction is set=0.8, subsample=1.0 will be ignored. Current value: bagging_fraction=0.8\n",
      "[LightGBM] [Warning] bagging_freq is set=5, subsample_freq=0 will be ignored. Current value: bagging_freq=5\n",
      "[LightGBM] [Warning] feature_fraction is set=0.9, colsample_bytree=1.0 will be ignored. Current value: feature_fraction=0.9\n",
      "[LightGBM] [Warning] bagging_fraction is set=0.8, subsample=1.0 will be ignored. Current value: bagging_fraction=0.8\n",
      "[LightGBM] [Warning] bagging_freq is set=5, subsample_freq=0 will be ignored. Current value: bagging_freq=5\n",
      "[LightGBM] [Warning] feature_fraction is set=0.9, colsample_bytree=1.0 will be ignored. Current value: feature_fraction=0.9\n",
      "[LightGBM] [Warning] bagging_fraction is set=0.8, subsample=1.0 will be ignored. Current value: bagging_fraction=0.8\n",
      "[LightGBM] [Warning] bagging_freq is set=5, subsample_freq=0 will be ignored. Current value: bagging_freq=5\n",
      "[LightGBM] [Warning] feature_fraction is set=0.9, colsample_bytree=1.0 will be ignored. Current value: feature_fraction=0.9\n",
      "[LightGBM] [Warning] bagging_fraction is set=0.8, subsample=1.0 will be ignored. Current value: bagging_fraction=0.8\n",
      "[LightGBM] [Warning] bagging_freq is set=5, subsample_freq=0 will be ignored. Current value: bagging_freq=5\n",
      "정확도 : 0.8285996157640584\n",
      "f1_score : 0.8273653762172752\n",
      "혼동행렬 : [[2841  458   15    0    0    0    0]\n",
      " [ 315 4830  496    4    0    0    0]\n",
      " [  48  444 4886  177   15    0    0]\n",
      " [   6   83  419 2083  197    5    0]\n",
      " [   2   21   67  315 1019   33    3]\n",
      " [   0    4   31    9   70  261   12]\n",
      " [   0    0    8    6    8   30   38]]\n"
     ]
    }
   ],
   "source": [
    "#LightGBM 그래디언트 부스팅 프레임워크 / 트리 기반의 앙상블 모델 : 결측치 처리 전 결과\n",
    "from lightgbm import LGBMClassifier\n",
    "\n",
    "# LightGBM 모델 생성\n",
    "model2 = LGBMClassifier(\n",
    "    objective='multiclass',\n",
    "    num_class=7,\n",
    "    metric='multi_logloss',\n",
    "    boosting_type='gbdt',\n",
    "    num_leaves=31,\n",
    "    learning_rate=0.05,\n",
    "    feature_fraction=0.9,\n",
    "    bagging_fraction=0.8,\n",
    "    bagging_freq=5,\n",
    "    verbose=0\n",
    ")\n",
    "\n",
    "# LightGBM 모델 학습\n",
    "model2.fit(xtr2, ytr2, eval_set=[(xval2, yval2)])\n",
    "\n",
    "# 검증 데이터 예측\n",
    "yval_pred2 = model2.predict(xval2)\n",
    "\n",
    "print(f'정확도 : {accuracy_score(yval2, yval_pred2)}')\n",
    "print(f'f1_score : {f1_score(yval2, yval_pred2, average = \"weighted\")}')\n",
    "print(f'혼동행렬 : {confusion_matrix(yval2, yval_pred2)}')"
   ]
  },
  {
   "cell_type": "markdown",
   "metadata": {},
   "source": [
    "### 스케일링 Standard\n",
    "mode 적용"
   ]
  },
  {
   "cell_type": "code",
   "execution_count": null,
   "metadata": {},
   "outputs": [
    {
     "name": "stdout",
     "output_type": "stream",
     "text": [
      "사이즈 확인 : (96294, 13) (96294, 13) (64197, 13) (64197, 13)\n",
      "사이즈 확인 : (96294, 13) (96294, 13) (64197, 13) (64197, 13)\n"
     ]
    }
   ],
   "source": [
    "from sklearn.preprocessing import StandardScaler\n",
    "\n",
    "scaler = StandardScaler()\n",
    "\n",
    "train_df_scaled_o2, test_df_scaled_o2 = scaling_df(train_df_scaled_o, test_df_scaled_o) #결측치 최빈값으로 대체\n",
    "train_df_scaled_e2, test_df_scaled_e2 = scaling_df(train_df_scaled_e, test_df_scaled_e) #결측치 중앙값으로 대체"
   ]
  },
  {
   "cell_type": "code",
   "execution_count": null,
   "metadata": {},
   "outputs": [],
   "source": [
    "#데이터 나누기 : mode 먼저\n",
    "from sklearn.model_selection import train_test_split\n",
    "\n",
    "xtr, xval, ytr, yval = train_test_split(train_df_scaled_o2, y, test_size = 0.2, random_state=123)"
   ]
  },
  {
   "cell_type": "code",
   "execution_count": null,
   "metadata": {},
   "outputs": [
    {
     "name": "stdout",
     "output_type": "stream",
     "text": [
      "정확도 : 0.8066877823355314\n",
      "f1_score : 0.8030460921389934\n",
      "혼동행렬 : [[2780  510   24    0    0    0    0]\n",
      " [ 261 4845  521   12    6    0    0]\n",
      " [  51  479 4888  135   17    0    0]\n",
      " [  10   86  631 1926  138    1    1]\n",
      " [   2   26   91  433  898   10    0]\n",
      " [   1    5   17   43  133  187    1]\n",
      " [   0    1    5   12   11   49   12]]\n"
     ]
    }
   ],
   "source": [
    "#분류 모델 : 랜덤포레스트\n",
    "\n",
    "# from sklearn.ensemble import RandomForestClassifier\n",
    "# from sklearn.metrics import f1_score, confusion_matrix, accuracy_score\n",
    "\n",
    "rf = RandomForestClassifier(random_state=123)\n",
    "rf.fit(xtr, ytr)\n",
    "yval_pred = rf.predict(xval)\n",
    "\n",
    "print(f'정확도 : {accuracy_score(yval, yval_pred)}')\n",
    "print(f'f1_score : {f1_score(yval, yval_pred, average = \"weighted\")}')\n",
    "print(f'혼동행렬 : {confusion_matrix(yval, yval_pred)}')\n"
   ]
  },
  {
   "cell_type": "code",
   "execution_count": null,
   "metadata": {},
   "outputs": [
    {
     "name": "stdout",
     "output_type": "stream",
     "text": [
      "정확도 : 0.848278726829015\n",
      "f1_score : 0.8475855525359892\n",
      "혼동행렬 : [[2909  392   12    1    0    0    0]\n",
      " [ 316 4886  427   13    3    0    0]\n",
      " [  51  391 4904  197   26    1    0]\n",
      " [   5   69  266 2251  196    6    0]\n",
      " [   2   15   55  269 1082   36    1]\n",
      " [   0    4   20   16   76  264    7]\n",
      " [   0    1    3    6   12   27   41]]\n"
     ]
    }
   ],
   "source": [
    "#XGBoost\n",
    "# import xgboost as xgb\n",
    "\n",
    "model = xgb.XGBClassifier()\n",
    "model.fit(xtr, ytr)\n",
    "yval_pred = model.predict(xval)\n",
    "\n",
    "print(f'정확도 : {accuracy_score(yval, yval_pred)}')\n",
    "print(f'f1_score : {f1_score(yval, yval_pred, average = \"weighted\")}')\n",
    "print(f'혼동행렬 : {confusion_matrix(yval, yval_pred)}')\n"
   ]
  },
  {
   "cell_type": "code",
   "execution_count": null,
   "metadata": {},
   "outputs": [
    {
     "name": "stdout",
     "output_type": "stream",
     "text": [
      "[LightGBM] [Warning] feature_fraction is set=0.9, colsample_bytree=1.0 will be ignored. Current value: feature_fraction=0.9\n",
      "[LightGBM] [Warning] bagging_fraction is set=0.8, subsample=1.0 will be ignored. Current value: bagging_fraction=0.8\n",
      "[LightGBM] [Warning] bagging_freq is set=5, subsample_freq=0 will be ignored. Current value: bagging_freq=5\n",
      "[LightGBM] [Warning] feature_fraction is set=0.9, colsample_bytree=1.0 will be ignored. Current value: feature_fraction=0.9\n",
      "[LightGBM] [Warning] bagging_fraction is set=0.8, subsample=1.0 will be ignored. Current value: bagging_fraction=0.8\n",
      "[LightGBM] [Warning] bagging_freq is set=5, subsample_freq=0 will be ignored. Current value: bagging_freq=5\n",
      "[LightGBM] [Warning] feature_fraction is set=0.9, colsample_bytree=1.0 will be ignored. Current value: feature_fraction=0.9\n",
      "[LightGBM] [Warning] bagging_fraction is set=0.8, subsample=1.0 will be ignored. Current value: bagging_fraction=0.8\n",
      "[LightGBM] [Warning] bagging_freq is set=5, subsample_freq=0 will be ignored. Current value: bagging_freq=5\n",
      "[LightGBM] [Warning] feature_fraction is set=0.9, colsample_bytree=1.0 will be ignored. Current value: feature_fraction=0.9\n",
      "[LightGBM] [Warning] bagging_fraction is set=0.8, subsample=1.0 will be ignored. Current value: bagging_fraction=0.8\n",
      "[LightGBM] [Warning] bagging_freq is set=5, subsample_freq=0 will be ignored. Current value: bagging_freq=5\n",
      "정확도 : 0.8300534814891739\n",
      "f1_score : 0.8288633425816126\n",
      "혼동행렬 : [[2815  483   16    0    0    0    0]\n",
      " [ 310 4854  477    4    0    0    0]\n",
      " [  50  455 4877  177   11    0    0]\n",
      " [   9   74  405 2128  173    4    0]\n",
      " [   2   18   73  324 1008   33    2]\n",
      " [   1    2   30   10   68  266   10]\n",
      " [   0    0    8    6    9   29   38]]\n"
     ]
    }
   ],
   "source": [
    "#LightGBM 그래디언트 부스팅 프레임워크 / 트리 기반의 앙상블 모델 : 결측치 처리 전 결과\n",
    "# from lightgbm import LGBMClassifier\n",
    "\n",
    "# LightGBM 모델 생성\n",
    "model2 = LGBMClassifier(\n",
    "    objective='multiclass',\n",
    "    num_class=7,\n",
    "    metric='multi_logloss',\n",
    "    boosting_type='gbdt',\n",
    "    num_leaves=31,\n",
    "    learning_rate=0.05,\n",
    "    feature_fraction=0.9,\n",
    "    bagging_fraction=0.8,\n",
    "    bagging_freq=5,\n",
    "    verbose=0\n",
    ")\n",
    "\n",
    "# LightGBM 모델 학습\n",
    "model2.fit(xtr, ytr, eval_set=[(xval, yval)])\n",
    "\n",
    "# 검증 데이터 예측\n",
    "yval_pred = model2.predict(xval)\n",
    "\n",
    "print(f'정확도 : {accuracy_score(yval, yval_pred)}')\n",
    "print(f'f1_score : {f1_score(yval, yval_pred, average = \"weighted\")}')\n",
    "print(f'혼동행렬 : {confusion_matrix(yval, yval_pred)}')\n"
   ]
  },
  {
   "cell_type": "markdown",
   "metadata": {},
   "source": [
    "median 적용"
   ]
  },
  {
   "cell_type": "code",
   "execution_count": null,
   "metadata": {},
   "outputs": [
    {
     "name": "stdout",
     "output_type": "stream",
     "text": [
      "정확도 : 0.8068435536632224\n",
      "f1_score : 0.8032819632738034\n",
      "혼동행렬 : [[2772  516   26    0    0    0    0]\n",
      " [ 278 4829  523   11    4    0    0]\n",
      " [  44  459 4910  137   20    0    0]\n",
      " [   9   90  634 1913  146    1    0]\n",
      " [   3   24   93  427  905    7    1]\n",
      " [   1    6   21   35  125  198    1]\n",
      " [   0    1    6   13   10   48   12]]\n"
     ]
    }
   ],
   "source": [
    "#분류 모델 : 랜덤포레스트\n",
    "\n",
    "rf = RandomForestClassifier(random_state=123)\n",
    "rf.fit(xtr2, ytr2)\n",
    "yval_pred2 = rf.predict(xval2)\n",
    "\n",
    "print(f'정확도 : {accuracy_score(yval2, yval_pred2)}')\n",
    "print(f'f1_score : {f1_score(yval2, yval_pred2, average = \"weighted\")}')\n",
    "print(f'혼동행렬 : {confusion_matrix(yval2, yval_pred2)}')\n"
   ]
  },
  {
   "cell_type": "code",
   "execution_count": null,
   "metadata": {},
   "outputs": [
    {
     "name": "stdout",
     "output_type": "stream",
     "text": [
      "정확도 : 0.8522249337971858\n",
      "f1_score : 0.8515847483871731\n",
      "혼동행렬 : [[2937  364   11    2    0    0    0]\n",
      " [ 300 4922  402   18    3    0    0]\n",
      " [  45  396 4903  202   23    1    0]\n",
      " [   5   73  251 2255  199   10    0]\n",
      " [   2   13   58  268 1084   34    1]\n",
      " [   0    3   21   12   73  270    8]\n",
      " [   0    1    5    6    9   27   42]]\n"
     ]
    }
   ],
   "source": [
    "#XGBoost\n",
    "# import xgboost as xgb\n",
    "\n",
    "model = xgb.XGBClassifier()\n",
    "model.fit(xtr2, ytr2)\n",
    "yval_pred2 = model.predict(xval2)\n",
    "\n",
    "print(f'정확도 : {accuracy_score(yval2, yval_pred2)}')\n",
    "print(f'f1_score : {f1_score(yval2, yval_pred2, average = \"weighted\")}')\n",
    "print(f'혼동행렬 : {confusion_matrix(yval2, yval_pred2)}')"
   ]
  },
  {
   "cell_type": "code",
   "execution_count": null,
   "metadata": {},
   "outputs": [
    {
     "name": "stdout",
     "output_type": "stream",
     "text": [
      "[LightGBM] [Warning] feature_fraction is set=0.9, colsample_bytree=1.0 will be ignored. Current value: feature_fraction=0.9\n",
      "[LightGBM] [Warning] bagging_fraction is set=0.8, subsample=1.0 will be ignored. Current value: bagging_fraction=0.8\n",
      "[LightGBM] [Warning] bagging_freq is set=5, subsample_freq=0 will be ignored. Current value: bagging_freq=5\n",
      "[LightGBM] [Warning] feature_fraction is set=0.9, colsample_bytree=1.0 will be ignored. Current value: feature_fraction=0.9\n",
      "[LightGBM] [Warning] bagging_fraction is set=0.8, subsample=1.0 will be ignored. Current value: bagging_fraction=0.8\n",
      "[LightGBM] [Warning] bagging_freq is set=5, subsample_freq=0 will be ignored. Current value: bagging_freq=5\n",
      "[LightGBM] [Warning] feature_fraction is set=0.9, colsample_bytree=1.0 will be ignored. Current value: feature_fraction=0.9\n",
      "[LightGBM] [Warning] bagging_fraction is set=0.8, subsample=1.0 will be ignored. Current value: bagging_fraction=0.8\n",
      "[LightGBM] [Warning] bagging_freq is set=5, subsample_freq=0 will be ignored. Current value: bagging_freq=5\n",
      "[LightGBM] [Warning] feature_fraction is set=0.9, colsample_bytree=1.0 will be ignored. Current value: feature_fraction=0.9\n",
      "[LightGBM] [Warning] bagging_fraction is set=0.8, subsample=1.0 will be ignored. Current value: bagging_fraction=0.8\n",
      "[LightGBM] [Warning] bagging_freq is set=5, subsample_freq=0 will be ignored. Current value: bagging_freq=5\n",
      "정확도 : 0.8285996157640584\n",
      "f1_score : 0.8273653762172752\n",
      "혼동행렬 : [[2841  458   15    0    0    0    0]\n",
      " [ 315 4830  496    4    0    0    0]\n",
      " [  48  444 4886  177   15    0    0]\n",
      " [   6   83  419 2083  197    5    0]\n",
      " [   2   21   67  315 1019   33    3]\n",
      " [   0    4   31    9   70  261   12]\n",
      " [   0    0    8    6    8   30   38]]\n"
     ]
    }
   ],
   "source": [
    "#LightGBM 그래디언트 부스팅 프레임워크 / 트리 기반의 앙상블 모델 : 결측치 처리 전 결과\n",
    "# from lightgbm import LGBMClassifier\n",
    "\n",
    "# LightGBM 모델 생성\n",
    "model2 = LGBMClassifier(\n",
    "    objective='multiclass',\n",
    "    num_class=7,\n",
    "    metric='multi_logloss',\n",
    "    boosting_type='gbdt',\n",
    "    num_leaves=31,\n",
    "    learning_rate=0.05,\n",
    "    feature_fraction=0.9,\n",
    "    bagging_fraction=0.8,\n",
    "    bagging_freq=5,\n",
    "    verbose=0\n",
    ")\n",
    "\n",
    "# LightGBM 모델 학습\n",
    "model2.fit(xtr2, ytr2, eval_set=[(xval2, yval2)])\n",
    "\n",
    "# 검증 데이터 예측\n",
    "yval_pred2 = model2.predict(xval2)\n",
    "\n",
    "print(f'정확도 : {accuracy_score(yval2, yval_pred2)}')\n",
    "print(f'f1_score : {f1_score(yval2, yval_pred2, average = \"weighted\")}')\n",
    "print(f'혼동행렬 : {confusion_matrix(yval2, yval_pred2)}')"
=======
    "#분류 모델 : 랜덤포레스트, 신경망 서포트벡터머신 사용"
>>>>>>> Stashed changes
   ]
  }
 ],
 "metadata": {
  "kernelspec": {
   "display_name": "Python 3",
   "language": "python",
   "name": "python3"
  },
  "language_info": {
   "codemirror_mode": {
    "name": "ipython",
    "version": 3
   },
   "file_extension": ".py",
   "mimetype": "text/x-python",
   "name": "python",
   "nbconvert_exporter": "python",
   "pygments_lexer": "ipython3",
   "version": "3.10.1"
  }
 },
 "nbformat": 4,
 "nbformat_minor": 2
}
